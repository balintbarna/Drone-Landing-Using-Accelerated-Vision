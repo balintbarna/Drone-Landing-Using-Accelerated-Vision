{
 "cells": [
  {
   "cell_type": "code",
   "execution_count": null,
   "metadata": {},
   "outputs": [],
   "source": [
    "import zmq\n",
    "import time\n",
    "import traceback\n",
    "import numpy as np\n",
    "import struct"
   ]
  },
  {
   "cell_type": "code",
   "execution_count": null,
   "metadata": {},
   "outputs": [],
   "source": [
    "class BoxPublisher:\n",
    "    def __init__(self):\n",
    "        context = zmq.Context()\n",
    "        self.pub = context.socket(zmq.PUB)\n",
    "        self.pub.setsockopt(zmq.LINGER, 0)\n",
    "        self.pub.bind(\"tcp://*:5555\")\n",
    "        self.sub = context.socket(zmq.SUB)\n",
    "        self.sub.setsockopt(zmq.SUBSCRIBE, b\"\")\n",
    "        self.sub.setsockopt(zmq.LINGER, 0)\n",
    "        self.sub.bind(\"tcp://*:5556\")\n",
    "        self.active = True\n",
    "\n",
    "    def close(self):\n",
    "        self.sub.close()\n",
    "        self.pub.close()\n",
    "    \n",
    "    def publish(self, messages, debug=False):\n",
    "        if self.active:\n",
    "            if debug:\n",
    "                print(\"Sending messages \" + str(messages))\n",
    "            self.pub.send_multipart(messages)\n",
    "\n",
    "    def terminated(self, debug=False):\n",
    "        if self.active:\n",
    "            try:\n",
    "                signal = self.sub.recv(flags=zmq.NOBLOCK)\n",
    "                if debug:\n",
    "                    print(\"recvd TERMINATE signal\")\n",
    "                self.active = False\n",
    "            except zmq.error.Again:\n",
    "                # signal not sent yet\n",
    "                pass\n",
    "            except:\n",
    "                traceback.print_exc()\n",
    "        return not self.active"
   ]
  },
  {
   "cell_type": "code",
   "execution_count": null,
   "metadata": {},
   "outputs": [],
   "source": [
    "if __name__ == \"__main__\":\n",
    "    pub = BoxPublisher()\n",
    "    while not pub.terminated():\n",
    "        time.sleep(1)\n",
    "        float_arr = np.array([0.1, 0.2, 0.3, 0.4])\n",
    "        float_list = [float(f) for f in float_arr]\n",
    "        messages = [struct.pack('d', f) for f in float_list]\n",
    "        print(float_arr)\n",
    "        print(float_list)\n",
    "        print(messages)\n",
    "        pub.publish(messages, True)\n",
    "    print(\"Shutting down\")\n",
    "    pub.close()"
   ]
  }
 ],
 "metadata": {
  "kernelspec": {
   "display_name": "Python 3",
   "language": "python",
   "name": "python3"
  },
  "language_info": {
   "codemirror_mode": {
    "name": "ipython",
    "version": 3
   },
   "file_extension": ".py",
   "mimetype": "text/x-python",
   "name": "python",
   "nbconvert_exporter": "python",
   "pygments_lexer": "ipython3",
   "version": "3.6.5"
  }
 },
 "nbformat": 4,
 "nbformat_minor": 4
}
