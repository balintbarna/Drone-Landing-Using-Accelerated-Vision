{
 "cells": [
  {
   "cell_type": "code",
   "execution_count": null,
   "metadata": {},
   "outputs": [],
   "source": [
    "import zmq\n",
    "import time"
   ]
  },
  {
   "cell_type": "code",
   "execution_count": null,
   "metadata": {},
   "outputs": [],
   "source": [
    "class BoxPublisher:\n",
    "    def __init__(self):\n",
    "        context = zmq.Context()\n",
    "        self.pub = context.socket(zmq.PUB)\n",
    "        self.pub.bind(\"tcp://*:5555\")\n",
    "        self.rep = context.socket(zmq.REP)\n",
    "        self.rep.bind(\"tcp://*:5556\")\n",
    "        self.active = True\n",
    "\n",
    "    def close(self):\n",
    "        self.rep.close()\n",
    "        self.pub.close()\n",
    "    \n",
    "    def publish(self, messages, debug=False):\n",
    "        if self.active:\n",
    "            if debug:\n",
    "                print(\"Sending messages \" + str(messages))\n",
    "            self.pub.send_multipart(messages)\n",
    "            try:\n",
    "                command = rep.recv(flags=zmq.NOBLOCK)\n",
    "                if debug:\n",
    "                    print(\"recvd TERMINATE command\")\n",
    "                self.rep.send(b\"ACK\")\n",
    "                self.active = False\n",
    "            except:\n",
    "                pass\n",
    "    "
   ]
  },
  {
   "cell_type": "code",
   "execution_count": null,
   "metadata": {},
   "outputs": [],
   "source": [
    "if __name__ == \"__main__\":\n",
    "    pub = BoxPublisher()\n",
    "    while pub.active:\n",
    "        time.sleep(1)\n",
    "        messages = (b\"Hello\", b\"World\")\n",
    "        pub.publish(messages, True)\n",
    "    print(\"Shutting down\")\n",
    "    pub.close()"
   ]
  }
 ],
 "metadata": {
  "kernelspec": {
   "display_name": "Python 3",
   "language": "python",
   "name": "python3"
  },
  "language_info": {
   "codemirror_mode": {
    "name": "ipython",
    "version": 3
   },
   "file_extension": ".py",
   "mimetype": "text/x-python",
   "name": "python",
   "nbconvert_exporter": "python",
   "pygments_lexer": "ipython3",
   "version": "3.6.9"
  }
 },
 "nbformat": 4,
 "nbformat_minor": 4
}
