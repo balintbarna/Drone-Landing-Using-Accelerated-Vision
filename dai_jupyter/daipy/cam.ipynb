{
 "cells": [
  {
   "cell_type": "code",
   "execution_count": null,
   "metadata": {},
   "outputs": [],
   "source": [
    "import cv2\n",
    "from matplotlib import pyplot as plt"
   ]
  },
  {
   "cell_type": "code",
   "execution_count": null,
   "metadata": {},
   "outputs": [],
   "source": [
    "class Camera:\n",
    "    def __init__(self):\n",
    "        self.cap = cv2.VideoCapture(0)\n",
    "        self.cap.set(cv2.CAP_PROP_BUFFERSIZE, 1)\n",
    "\n",
    "    def get_img(self):\n",
    "        ret, img = self.cap.read()\n",
    "        return img\n",
    "\n",
    "    def get_rgb(self):\n",
    "        img = self.get_img()\n",
    "        rgb = cv2.cvtColor(img, cv2.COLOR_BGR2RGB)\n",
    "        return rgb\n",
    "    \n",
    "    def get_bgr(self):\n",
    "        return self.get_img()\n",
    "\n",
    "    def close(self):\n",
    "        self.cap.release()"
   ]
  },
  {
   "cell_type": "code",
   "execution_count": null,
   "metadata": {},
   "outputs": [],
   "source": [
    "if __name__ == \"__main__\":\n",
    "    cam = Camera()\n",
    "    for i in range(0, 5):\n",
    "        rgb = cam.get_rgb()\n",
    "        plt.imshow(rgb)\n",
    "        plt.show()\n",
    "    cam.close()"
   ]
  }
 ],
 "metadata": {
  "kernelspec": {
   "display_name": "Python 3",
   "language": "python",
   "name": "python3"
  },
  "language_info": {
   "codemirror_mode": {
    "name": "ipython",
    "version": 3
   },
   "file_extension": ".py",
   "mimetype": "text/x-python",
   "name": "python",
   "nbconvert_exporter": "python",
   "pygments_lexer": "ipython3",
   "version": "3.6.9"
  }
 },
 "nbformat": 4,
 "nbformat_minor": 4
}
