{
 "cells": [
  {
   "cell_type": "code",
   "execution_count": null,
   "metadata": {},
   "outputs": [],
   "source": [
    "import zmq\n",
    "import time"
   ]
  },
  {
   "cell_type": "code",
   "execution_count": null,
   "metadata": {},
   "outputs": [],
   "source": [
    "context = zmq.Context()\n",
    "pub = context.socket(zmq.PUB)\n",
    "pub.bind(\"tcp://*:5555\")\n",
    "rep = context.socket(zmq.REP)\n",
    "rep.bind(\"tcp://*:5556\")"
   ]
  },
  {
   "cell_type": "code",
   "execution_count": null,
   "metadata": {},
   "outputs": [],
   "source": [
    "active = True\n",
    "while active:\n",
    "    time.sleep(1)\n",
    "    messages = [b\"Hello\", b\"World\"]\n",
    "    pub.send_multipart(messages)\n",
    "    print(\"sent \" + str(messages))\n",
    "    try:\n",
    "        command = rep.recv(flags=zmq.NOBLOCK)\n",
    "        rep.send(b\"ACK\")\n",
    "        active = False\n",
    "    except:\n",
    "        pass\n",
    "print(\"Shutting down\")"
   ]
  },
  {
   "cell_type": "code",
   "execution_count": null,
   "metadata": {},
   "outputs": [],
   "source": [
    "rep.close()\n",
    "pub.close()"
   ]
  }
 ],
 "metadata": {
  "kernelspec": {
   "display_name": "Python 3",
   "language": "python",
   "name": "python3"
  },
  "language_info": {
   "codemirror_mode": {
    "name": "ipython",
    "version": 3
   },
   "file_extension": ".py",
   "mimetype": "text/x-python",
   "name": "python",
   "nbconvert_exporter": "python",
   "pygments_lexer": "ipython3",
   "version": "3.6.9"
  }
 },
 "nbformat": 4,
 "nbformat_minor": 4
}
